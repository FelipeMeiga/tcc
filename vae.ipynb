{
 "cells": [
  {
   "cell_type": "markdown",
   "metadata": {},
   "source": [
    "## Importando as bibliotecas:"
   ]
  },
  {
   "cell_type": "code",
   "execution_count": 2,
   "metadata": {},
   "outputs": [
    {
     "name": "stderr",
     "output_type": "stream",
     "text": [
      "/home/felipe/.local/lib/python3.10/site-packages/tqdm/auto.py:21: TqdmWarning: IProgress not found. Please update jupyter and ipywidgets. See https://ipywidgets.readthedocs.io/en/stable/user_install.html\n",
      "  from .autonotebook import tqdm as notebook_tqdm\n"
     ]
    }
   ],
   "source": [
    "import torch\n",
    "import torch.nn as nn\n",
    "import torch.optim as optim\n",
    "from torchvision import datasets, transforms\n",
    "from torch.utils.data import DataLoader, random_split\n",
    "import matplotlib.pyplot as plt\n",
    "import random"
   ]
  },
  {
   "cell_type": "markdown",
   "metadata": {},
   "source": [
    "## Carregando o dataset e fazendo as configuracoes iniciais:\n",
    "\n",
    "A funcao trasnforms.Compose([]) eh responsavel por aplicar uma serie de transformacoes e conversoes\n",
    "nas imagens antes de passar para a rede neural, no caso, estamos aplicando somente a conversao para tensor.\n",
    "\n",
    "Estamos usando o dataset MNIST, que possui dimensoes de exatamente 28x28. Estamos tambem fazendo uma divisao de 80%\n",
    "do dataset para treino e 20% para teste do modelo alem de um random_split no proprio dataset, o que nao eh necessariamente otimo\n",
    "pois existe uma chance de enviesar o modelo desbalanceando a distribuicao de numeros entre as secoes de teste e treino.\n",
    "\n",
    "O batch size foi definido como 128, o que significa que o modelo somente ajustara os pesos apos 128 imagens vistas."
   ]
  },
  {
   "cell_type": "code",
   "execution_count": 3,
   "metadata": {},
   "outputs": [],
   "source": [
    "transform = transforms.Compose([\n",
    "    transforms.ToTensor()\n",
    "])\n",
    "\n",
    "image_dims_color = 28*28\n",
    "\n",
    "dataset = datasets.MNIST(root='./data', train=True, transform=transform, download=True)\n",
    "train_size = int(0.8 * len(dataset))\n",
    "test_size = len(dataset) - train_size\n",
    "train_dataset, test_dataset = random_split(dataset, [train_size, test_size])\n",
    "train_loader = DataLoader(train_dataset, batch_size=128, shuffle=True)\n",
    "test_loader = DataLoader(test_dataset, batch_size=128, shuffle=False)\n"
   ]
  },
  {
   "cell_type": "markdown",
   "metadata": {},
   "source": [
    "## Declarando a classe do VAE:\n",
    "\n",
    "No construtor da classe estamos criando as camadas do VAE, note que ate as camadas fc51 e fc52 estamos reduzindo o numero de neuronios e por consequencia\n",
    "reduzindo o espaco latente, buscando resumir os dados a suas distribuicoes. Ja nas camadas posteriores as citadas anteriormente estamos aumentando novamente\n",
    "o numero de neuronios, aumentando o espaco latente. Estamos usando a ReLU como funcao de ativacao para todas as camadas (com excecao da camada de saida onde estamos usando a funcao sigmoid).\n",
    "\n",
    "Outro fator importante de se notar eh que as camadas fc51 e fc52 estao sendo usadas como media e variancia da distribuicao gaussiana construida apartir dos dados de entrada, no caso as imagens do dataset MNIST.\n",
    "\n",
    "O metodo forward eh simplesmente onde ocorre a planificacao do espaco multidimensional, a reducao do espaco latente para criar a distribuicao gaussiana dos dados de entrada por parte do encoder e a reconstrucao dos dados de entrada por parte do decoder, ou seja, ele planifica os dados e passa por todas as camadas da rede neural (encoder e decoder).\n",
    "\n",
    "O metodo reparameterize eh responsavel justamente por coletar amostras da distribuicao normal dos dados de acordo com a media e a variancia obtidas na parte de encode,\n",
    "o que torna o ajuste dos pesos usando o gradiente descendente possivel.\n",
    "\n",
    "Por fim, o metodo decode recebe as amostras coletadas pela funcao reparameterize e tenta reconstruir os dados de entrada passando eles pela outra metade das camadas da rede neural."
   ]
  },
  {
   "cell_type": "code",
   "execution_count": 4,
   "metadata": {},
   "outputs": [],
   "source": [
    "class VAE(nn.Module):\n",
    "    def __init__(self, image_dims_color):\n",
    "        super(VAE, self).__init__()\n",
    "        self.fc1 = nn.Linear(image_dims_color, 512)\n",
    "        self.fc2 = nn.Linear(512, 256)\n",
    "        self.fc3 = nn.Linear(256, 128)\n",
    "        self.fc4 = nn.Linear(128, 64)\n",
    "        self.fc51 = nn.Linear(64, 20)  # mean\n",
    "        self.fc52 = nn.Linear(64, 20)  # log variance\n",
    "        self.fc6 = nn.Linear(20, 64)\n",
    "        self.fc7 = nn.Linear(64, 128)\n",
    "        self.fc8 = nn.Linear(128, 256)\n",
    "        self.fc9 = nn.Linear(256, 512)\n",
    "        self.fc10 = nn.Linear(512, image_dims_color)\n",
    "    \n",
    "    def encode(self, x):\n",
    "        h1 = torch.relu(self.fc1(x))\n",
    "        h2 = torch.relu(self.fc2(h1))\n",
    "        h3 = torch.relu(self.fc3(h2))\n",
    "        h4 = torch.relu(self.fc4(h3))\n",
    "        return self.fc51(h4), self.fc52(h4)\n",
    "    \n",
    "    def reparameterize(self, mu, logvar):\n",
    "        std = torch.exp(0.5 * logvar)\n",
    "        eps = torch.randn_like(std)\n",
    "        return mu + eps * std\n",
    "    \n",
    "    def decode(self, z):\n",
    "        h6 = torch.relu(self.fc6(z))\n",
    "        h7 = torch.relu(self.fc7(h6))\n",
    "        h8 = torch.relu(self.fc8(h7))\n",
    "        h9 = torch.relu(self.fc9(h8))\n",
    "        return torch.sigmoid(self.fc10(h9))\n",
    "    \n",
    "    def forward(self, x):\n",
    "        mu, logvar = self.encode(x.view(-1, image_dims_color))\n",
    "        z = self.reparameterize(mu, logvar)\n",
    "        return self.decode(z), mu, logvar"
   ]
  },
  {
   "cell_type": "markdown",
   "metadata": {},
   "source": [
    "## Construcao da funcao de perda do modelo:\n",
    "\n",
    "Para a funcao de perda estamos usando binary cross entropy (BCE) em conjunto com o KL divergence (KLD), onde o BCE eh usado para saber o quao bem o auto encoder esta classificando os tensores gerados a partir do espaco latente pelo encoder. Ja o KLD esta sendo usado para medir a divergencia entre a distribuicao latente aprendida pelo encoder e a istribuicao gaussiana padrao N(0, 1)."
   ]
  },
  {
   "cell_type": "code",
   "execution_count": 5,
   "metadata": {},
   "outputs": [],
   "source": [
    "def loss_function(recon_x, x, mu, logvar):\n",
    "    BCE = nn.functional.binary_cross_entropy(recon_x, x.view(-1, image_dims_color), reduction='sum')\n",
    "    KLD = -0.5 * torch.sum(1 + logvar - mu.pow(2) - logvar.exp())\n",
    "    return BCE + KLD"
   ]
  },
  {
   "cell_type": "markdown",
   "metadata": {},
   "source": [
    "## Configurando o uso da placa de video e o modelo:"
   ]
  },
  {
   "cell_type": "code",
   "execution_count": 6,
   "metadata": {},
   "outputs": [
    {
     "name": "stdout",
     "output_type": "stream",
     "text": [
      "cuda\n"
     ]
    }
   ],
   "source": [
    "device = torch.device(\"cuda\" if torch.cuda.is_available() else \"cpu\")\n",
    "print(device)\n",
    "model = VAE(image_dims_color).to(device)\n",
    "optimizer = optim.Adam(model.parameters(), lr=1e-3)\n",
    "\n",
    "specific_image, _ = train_dataset[0]\n",
    "specific_image = specific_image.to(device).view(-1, image_dims_color)\n",
    "\n",
    "model.train()\n",
    "num_epochs = 15\n",
    "reconstructions = []"
   ]
  },
  {
   "cell_type": "markdown",
   "metadata": {},
   "source": [
    "## Treinamento:\n",
    "(salvando os pesos do modelo em cada epoca)"
   ]
  },
  {
   "cell_type": "code",
   "execution_count": 7,
   "metadata": {},
   "outputs": [
    {
     "name": "stdout",
     "output_type": "stream",
     "text": [
      "Epoch 1, Loss: 204.72930928548178\n",
      "Epoch 2, Loss: 167.09791866048178\n",
      "Epoch 3, Loss: 150.52444213867187\n",
      "Epoch 4, Loss: 144.02177368164064\n",
      "Epoch 5, Loss: 140.5154419962565\n",
      "Epoch 6, Loss: 138.0690160929362\n",
      "Epoch 7, Loss: 136.20079184977214\n",
      "Epoch 8, Loss: 134.91585349527995\n",
      "Epoch 9, Loss: 133.66867635091145\n",
      "Epoch 10, Loss: 132.62873986816408\n",
      "Epoch 11, Loss: 131.80169372558595\n",
      "Epoch 12, Loss: 131.0738061319987\n",
      "Epoch 13, Loss: 130.43996693929037\n",
      "Epoch 14, Loss: 130.17637532552084\n",
      "Epoch 15, Loss: 129.38853767903646\n"
     ]
    }
   ],
   "source": [
    "for epoch in range(num_epochs):\n",
    "    train_loss = 0\n",
    "    for batch_idx, (data, _) in enumerate(train_loader):\n",
    "        data = data.to(device)\n",
    "        optimizer.zero_grad()\n",
    "        recon_batch, mu, logvar = model(data)\n",
    "        loss = loss_function(recon_batch, data, mu, logvar)\n",
    "        loss.backward()\n",
    "        train_loss += loss.item()\n",
    "        optimizer.step()\n",
    "    \n",
    "    # Salvar os pesos do modelo para cada época\n",
    "    torch.save(model.state_dict(), f'./epochs/vae_epoch_{epoch + 1}.pth')\n",
    "    \n",
    "    model.eval()\n",
    "    with torch.no_grad():\n",
    "        recon_image, _, _ = model(specific_image)\n",
    "        reconstructions.append(recon_image.view(28, 28).cpu().numpy())\n",
    "    model.train()\n",
    "    \n",
    "    print(f'Epoch {epoch + 1}, Loss: {train_loss / len(train_loader.dataset)}')"
   ]
  },
  {
   "cell_type": "markdown",
   "metadata": {},
   "source": [
    "## Gerando imagens:"
   ]
  },
  {
   "cell_type": "code",
   "execution_count": 17,
   "metadata": {},
   "outputs": [
    {
     "data": {
      "image/png": "[encoded data removed]",
      "text/plain": [
       "<Figure size 1200x1200 with 16 Axes>"
      ]
     },
     "metadata": {},
     "output_type": "display_data"
    }
   ],
   "source": [
    "def predict(image, num_epochs):\n",
    "    image = image.to(device).view(-1, image_dims_color)\n",
    "    predictions = []\n",
    "    for epoch in range(1, num_epochs + 1):\n",
    "        model.load_state_dict(torch.load(f'./epochs/vae_epoch_{epoch}.pth'))\n",
    "        model.eval()\n",
    "        with torch.no_grad():\n",
    "            recon_image, _, _ = model(image)\n",
    "            predictions.append(recon_image.view(28, 28).cpu().numpy())\n",
    "    return predictions\n",
    "\n",
    "model.eval()\n",
    "with torch.no_grad():\n",
    "    z = torch.randn(64, 20).to(device)\n",
    "    sample = model.decode(z).cpu()\n",
    "    sample = sample.view(64, 28, 28)\n",
    "\n",
    "specific_image, _ = test_dataset[random.choice(range(0, test_size))]\n",
    "predictions = predict(specific_image, num_epochs)\n",
    "\n",
    "fig, ax = plt.subplots(4, 4, figsize=(12, 12))\n",
    "ax = ax.flatten()\n",
    "ax[0].imshow(specific_image.view(28, 28).cpu(), cmap='gray')\n",
    "ax[0].set_title('Original')\n",
    "ax[0].axis('off')\n",
    "\n",
    "for i in range(1, 16):\n",
    "    ax[i].imshow(predictions[i-1], cmap='gray')\n",
    "    ax[i].set_title(f'Epoch {i}')\n",
    "    ax[i].axis('off')\n",
    "\n",
    "plt.show()\n"
   ]
  }
 ],
 "metadata": {
  "kernelspec": {
   "display_name": "Python 3",
   "language": "python",
   "name": "python3"
  },
  "language_info": {
   "codemirror_mode": {
    "name": "ipython",
    "version": 3
   },
   "file_extension": ".py",
   "mimetype": "text/x-python",
   "name": "python",
   "nbconvert_exporter": "python",
   "pygments_lexer": "ipython3",
   "version": "3.10.12"
  }
 },
 "nbformat": 4,
 "nbformat_minor": 2
}
