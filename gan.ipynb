{
 "cells": [
  {
   "cell_type": "markdown",
   "metadata": {},
   "source": [
    "## Importanto as bibliotecas necessarias:"
   ]
  },
  {
   "cell_type": "code",
   "execution_count": 2,
   "metadata": {},
   "outputs": [
    {
     "name": "stderr",
     "output_type": "stream",
     "text": [
      "/home/felipe/.local/lib/python3.10/site-packages/tqdm/auto.py:21: TqdmWarning: IProgress not found. Please update jupyter and ipywidgets. See https://ipywidgets.readthedocs.io/en/stable/user_install.html\n",
      "  from .autonotebook import tqdm as notebook_tqdm\n"
     ]
    }
   ],
   "source": [
    "import torch\n",
    "import torch.nn as nn\n",
    "import torch.optim as optim\n",
    "import torchvision\n",
    "from torchvision import datasets, transforms\n",
    "from torch.utils.data import DataLoader, random_split\n",
    "from torchvision.utils import save_image\n",
    "import matplotlib.pyplot as plt\n",
    "import numpy as np\n",
    "import random"
   ]
  },
  {
   "cell_type": "markdown",
   "metadata": {},
   "source": [
    "## Configurando o dataset e os hiperparametros:"
   ]
  },
  {
   "cell_type": "code",
   "execution_count": 3,
   "metadata": {},
   "outputs": [
    {
     "name": "stdout",
     "output_type": "stream",
     "text": [
      "cuda\n"
     ]
    }
   ],
   "source": [
    "batch_size = 128\n",
    "latent_dim = 20\n",
    "lr = 0.0002\n",
    "epochs = 200\n",
    "device = torch.device('cuda' if torch.cuda.is_available() else 'cpu')\n",
    "\n",
    "print(device)\n",
    "\n",
    "transform = transforms.Compose(\n",
    "    [transforms.ToTensor(), transforms.Normalize((0.5,), (0.5,))]\n",
    ")\n",
    "\n",
    "dataset = datasets.MNIST('./data', train=True, download=True, transform=transform)\n",
    "train_size = int(0.8 * len(dataset))\n",
    "test_size = len(dataset) - train_size\n",
    "train_dataset, test_dataset = random_split(dataset, [train_size, test_size])\n",
    "train_loader = DataLoader(train_dataset, batch_size=batch_size, shuffle=True)\n",
    "test_loader = DataLoader(test_dataset, batch_size=batch_size, shuffle=False)"
   ]
  },
  {
   "cell_type": "markdown",
   "metadata": {},
   "source": [
    "## Definicao das redes neurais adversarias (GAN):"
   ]
  },
  {
   "cell_type": "code",
   "execution_count": 4,
   "metadata": {},
   "outputs": [],
   "source": [
    "class Generator(nn.Module):\n",
    "    def __init__(self):\n",
    "        super(Generator, self).__init__()\n",
    "\n",
    "        self.model = nn.Sequential(\n",
    "            nn.Linear(latent_dim, 256),\n",
    "            nn.LeakyReLU(0.2, inplace=True),\n",
    "            nn.Linear(256, 512),\n",
    "            nn.LeakyReLU(0.2, inplace=True),\n",
    "            nn.Linear(512, 1024),\n",
    "            nn.LeakyReLU(0.2, inplace=True),\n",
    "            nn.Linear(1024, 28*28),\n",
    "            nn.Tanh()\n",
    "        )\n",
    "\n",
    "    def forward(self, z):\n",
    "        return self.model(z).view(z.size(0), 1, 28, 28)\n",
    "\n",
    "class Discriminator(nn.Module):\n",
    "    def __init__(self):\n",
    "        super(Discriminator, self).__init__()\n",
    "        self.model = nn.Sequential(\n",
    "            nn.Linear(28*28, 1024),\n",
    "            nn.LeakyReLU(0.2, inplace=True),\n",
    "            nn.Dropout(0.3),\n",
    "            nn.Linear(1024, 512),\n",
    "            nn.LeakyReLU(0.2, inplace=True),\n",
    "            nn.Dropout(0.3),\n",
    "            nn.Linear(512, 256),\n",
    "            nn.LeakyReLU(0.2, inplace=True),\n",
    "            nn.Dropout(0.3),\n",
    "            nn.Linear(256, 1),\n",
    "            nn.Sigmoid()\n",
    "        )\n",
    "    def forward(self, img):\n",
    "        img_flat = img.view(img.size(0), -1)\n",
    "        return self.model(img_flat)"
   ]
  },
  {
   "cell_type": "markdown",
   "metadata": {},
   "source": [
    "## Instanciando os objetos, otimizadores e funcao de perda:"
   ]
  },
  {
   "cell_type": "code",
   "execution_count": 5,
   "metadata": {},
   "outputs": [],
   "source": [
    "generator = Generator().to(device)\n",
    "discriminator = Discriminator().to(device)\n",
    "\n",
    "beta_1 = 0.5 # parameters control the optimizer's momentum\n",
    "beta_2 = 0.999 # parameters control the optimizer's momentum\n",
    "\n",
    "optimizer_G = optim.Adam(generator.parameters(), lr=lr, betas=(beta_1, beta_2))\n",
    "optimizer_D = optim.Adam(discriminator.parameters(), lr=lr, betas=(beta_1, beta_2))\n",
    "\n",
    "criterion = nn.BCELoss()"
   ]
  },
  {
   "cell_type": "markdown",
   "metadata": {},
   "source": [
    "## Treinamento:"
   ]
  },
  {
   "cell_type": "code",
   "execution_count": 6,
   "metadata": {},
   "outputs": [
    {
     "name": "stdout",
     "output_type": "stream",
     "text": [
      "[Epoch 10/200] [Avg D loss: 0.4609611128171285] [Avg G loss: 1.5442684303919474]\n",
      "[Epoch 20/200] [Avg D loss: 0.6011660194396973] [Avg G loss: 1.045852548758189]\n",
      "[Epoch 30/200] [Avg D loss: 0.6247048490842183] [Avg G loss: 0.9626329100926717]\n",
      "[Epoch 40/200] [Avg D loss: 0.6327079563140869] [Avg G loss: 0.9351584332784016]\n",
      "[Epoch 50/200] [Avg D loss: 0.6337270735104878] [Avg G loss: 0.9322302993138631]\n",
      "[Epoch 60/200] [Avg D loss: 0.6357809208234151] [Avg G loss: 0.9280622701644897]\n",
      "[Epoch 70/200] [Avg D loss: 0.6345309791564941] [Avg G loss: 0.9295523111025492]\n",
      "[Epoch 80/200] [Avg D loss: 0.6336840432484945] [Avg G loss: 0.9256645975112915]\n",
      "[Epoch 90/200] [Avg D loss: 0.6351160167058308] [Avg G loss: 0.918690758228302]\n",
      "[Epoch 100/200] [Avg D loss: 0.6359489593505859] [Avg G loss: 0.9146031020482381]\n",
      "[Epoch 110/200] [Avg D loss: 0.6350810600916544] [Avg G loss: 0.9178811138470968]\n",
      "[Epoch 120/200] [Avg D loss: 0.6327879900932312] [Avg G loss: 0.9201421850522359]\n",
      "[Epoch 130/200] [Avg D loss: 0.6336811319986979] [Avg G loss: 0.9184788754781087]\n",
      "[Epoch 140/200] [Avg D loss: 0.6334720199902852] [Avg G loss: 0.9193975114822388]\n",
      "[Epoch 150/200] [Avg D loss: 0.6316506053606669] [Avg G loss: 0.9222051900227864]\n",
      "[Epoch 160/200] [Avg D loss: 0.6312274200121561] [Avg G loss: 0.925679946899414]\n",
      "[Epoch 170/200] [Avg D loss: 0.6303762372334798] [Avg G loss: 0.9240780860582988]\n",
      "[Epoch 180/200] [Avg D loss: 0.6289495628674825] [Avg G loss: 0.9285692092577617]\n",
      "[Epoch 190/200] [Avg D loss: 0.627149604956309] [Avg G loss: 0.9310883982976278]\n",
      "[Epoch 200/200] [Avg D loss: 0.6258182714780172] [Avg G loss: 0.9370832028388977]\n"
     ]
    },
    {
     "data": {
      "image/png": "[encoded data removed]",
      "text/plain": [
       "<Figure size 640x480 with 1 Axes>"
      ]
     },
     "metadata": {},
     "output_type": "display_data"
    }
   ],
   "source": [
    "g_loss_per_epoch = []\n",
    "d_loss_per_epoch = []\n",
    "\n",
    "for epoch in range(epochs):\n",
    "    d_loss_accumulated = 0.0\n",
    "    g_loss_accumulated = 0.0\n",
    "\n",
    "    for i, (imgs, _) in enumerate(train_loader):\n",
    "        real = torch.ones(imgs.size(0), 1).to(device)\n",
    "        fake = torch.zeros(imgs.size(0), 1).to(device)\n",
    "\n",
    "        optimizer_D.zero_grad()\n",
    "        real_imgs = imgs.to(device)\n",
    "        pred_real = discriminator(real_imgs)\n",
    "        loss_real = criterion(pred_real, real)\n",
    "\n",
    "        z = torch.randn(imgs.size(0), latent_dim).to(device)\n",
    "        fake_imgs = generator(z)\n",
    "        pred_fake = discriminator(fake_imgs.detach())\n",
    "        loss_fake = criterion(pred_fake, fake)\n",
    "\n",
    "        d_loss = (loss_real + loss_fake) / 2\n",
    "        d_loss.backward()\n",
    "        optimizer_D.step()\n",
    "\n",
    "        d_loss_accumulated += d_loss.item()\n",
    "\n",
    "        optimizer_G.zero_grad()\n",
    "        pred_fake = discriminator(fake_imgs)\n",
    "        g_loss = criterion(pred_fake, real)\n",
    "        g_loss.backward()\n",
    "        optimizer_G.step()\n",
    "\n",
    "        g_loss_accumulated += g_loss.item()\n",
    "\n",
    "        if i == len(train_loader) - 1 and (epoch + 1) % 10 == 0:\n",
    "            d_loss_avg = d_loss_accumulated / len(train_loader)\n",
    "            g_loss_avg = g_loss_accumulated / len(train_loader)\n",
    "            print(f\"[Epoch {epoch+1}/{epochs}] [Avg D loss: {d_loss_avg}] [Avg G loss: {g_loss_avg}]\")\n",
    "\n",
    "    torch.save(generator.state_dict(), f'./epochs_gan/g/g_epoch_{epoch + 1}.pth')\n",
    "    torch.save(discriminator.state_dict(), f'./epochs_gan/d/d_epoch_{epoch + 1}.pth')\n",
    "\n",
    "    g_loss_per_epoch.append(g_loss_accumulated)\n",
    "    d_loss_per_epoch.append(d_loss_accumulated)\n",
    "\n",
    "plt.title('Loss G and D')\n",
    "plt.xlabel('epochs')\n",
    "plt.ylabel('Loss')\n",
    "plt.plot(list(range(epochs)), g_loss_per_epoch, label='G', color='b', linestyle='-', marker='o')\n",
    "plt.plot(list(range(epochs)), d_loss_per_epoch, label='D', color='r', linestyle='--', marker='x')\n",
    "plt.legend()\n",
    "plt.show()"
   ]
  },
  {
   "cell_type": "markdown",
   "metadata": {},
   "source": [
    "## Gerando imagens:"
   ]
  },
  {
   "cell_type": "code",
   "execution_count": 14,
   "metadata": {},
   "outputs": [
    {
     "data": {
      "image/png": "[encoded data removed]",
      "text/plain": [
       "<Figure size 640x480 with 1 Axes>"
      ]
     },
     "metadata": {},
     "output_type": "display_data"
    }
   ],
   "source": [
    "def generate_images(model, device):\n",
    "    model.eval()\n",
    "    model.load_state_dict(torch.load(f'./epochs_gan/g/g_epoch_200.pth'))\n",
    "    with torch.no_grad():\n",
    "        z = torch.randn(1, latent_dim).to(device)\n",
    "        sample = generator(z).cpu()\n",
    "        sample = sample.view(28, 28)\n",
    "\n",
    "        return sample\n",
    "\n",
    "sample = generate_images(generator, device)\n",
    "plt.imshow(sample, cmap='gray')\n",
    "plt.axis('off')\n",
    "plt.show()"
   ]
  }
 ],
 "metadata": {
  "kernelspec": {
   "display_name": "Python 3",
   "language": "python",
   "name": "python3"
  },
  "language_info": {
   "codemirror_mode": {
    "name": "ipython",
    "version": 3
   },
   "file_extension": ".py",
   "mimetype": "text/x-python",
   "name": "python",
   "nbconvert_exporter": "python",
   "pygments_lexer": "ipython3",
   "version": "3.10.12"
  }
 },
 "nbformat": 4,
 "nbformat_minor": 2
}
