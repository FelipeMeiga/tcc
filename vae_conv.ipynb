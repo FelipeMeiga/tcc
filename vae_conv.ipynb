{
 "cells": [
  {
   "cell_type": "markdown",
   "metadata": {},
   "source": [
    "## Importanto as bibliotecas:"
   ]
  },
  {
   "cell_type": "code",
   "execution_count": 314,
   "metadata": {},
   "outputs": [],
   "source": [
    "import torch\n",
    "import torch.nn as nn\n",
    "import torch.optim as optim\n",
    "import torch.nn.functional as F\n",
    "from torch.utils.data import DataLoader, random_split\n",
    "\n",
    "import torchvision\n",
    "import torchvision.datasets as datasets\n",
    "import torchvision.transforms as transforms\n",
    "from torchvision.utils import make_grid\n",
    "\n",
    "import numpy as np\n",
    "import matplotlib.pyplot as plt\n",
    "\n",
    "import random"
   ]
  },
  {
   "cell_type": "markdown",
   "metadata": {},
   "source": [
    "## Configuracoes iniciais:"
   ]
  },
  {
   "cell_type": "code",
   "execution_count": 315,
   "metadata": {},
   "outputs": [
    {
     "name": "stdout",
     "output_type": "stream",
     "text": [
      "cuda\n"
     ]
    }
   ],
   "source": [
    "transform = transforms.Compose([\n",
    "    transforms.ToTensor()\n",
    "])\n",
    "\n",
    "device = 'cuda' if torch.cuda.is_available() else 'cpu'\n",
    "print(device)\n",
    "\n",
    "image_dims_color = 28*28\n",
    "batch_size = 128\n",
    "\n",
    "dataset = datasets.FashionMNIST(root='./data', train=True, transform=transform, download=True)\n",
    "train_size = int(0.8 * len(dataset))\n",
    "test_size = len(dataset) - train_size\n",
    "train_dataset, test_dataset = random_split(dataset, [train_size, test_size])\n",
    "train_loader = DataLoader(train_dataset, batch_size=batch_size, shuffle=True)\n",
    "test_loader = DataLoader(test_dataset, batch_size=batch_size, shuffle=False)"
   ]
  },
  {
   "cell_type": "markdown",
   "metadata": {},
   "source": [
    "## Declarando a classe VAE e funcao de perda:"
   ]
  },
  {
   "cell_type": "code",
   "execution_count": 316,
   "metadata": {},
   "outputs": [],
   "source": [
    "class VAE(nn.Module):\n",
    "  \n",
    "    def __init__(self):\n",
    "        super(VAE, self).__init__()\n",
    "        \n",
    "        self.conv1 = nn.Conv2d(1, 32, 3)\n",
    "        self.conv2 = nn.Conv2d(32, 16, 3)\n",
    "        self.max_pool = nn.MaxPool2d(kernel_size = 2, stride = 2)\n",
    "        self.fc1_mu = nn.Linear(12 * 12 * 16, 20)\n",
    "        self.fc1_sig = nn.Linear(12 * 12 * 16, 20)\n",
    "        self.fc2 = nn.Linear(20, 12 * 12 * 16)\n",
    "        self.up_sample = nn.UpsamplingNearest2d(scale_factor=2)\n",
    "        self.conv3 = nn.ConvTranspose2d(16, 32, 3)\n",
    "        self.conv4 = nn.ConvTranspose2d(32, 1, 3)\n",
    "  \n",
    "    def encode(self,x):\n",
    "        a1 = F.relu(self.conv1(x))\n",
    "        a2 = F.relu(self.conv2(a1))\n",
    "        mx_poold = self.max_pool(a2)\n",
    "        a_reshaped = mx_poold.reshape(-1 , 12 * 12 * 16)\n",
    "        a_mu = self.fc1_mu(a_reshaped)\n",
    "        a_logvar = self.fc1_sig(a_reshaped)\n",
    "        return a_mu, a_logvar\n",
    "  \n",
    "    def decode(self,z):\n",
    "        a3 = F.relu(self.fc2(z))\n",
    "        a3 = a3.reshape(-1, 16, 12, 12)\n",
    "        a3_upsample = self.up_sample(a3)\n",
    "        a4 = F.relu(self.conv3(a3_upsample))\n",
    "        a5 = torch.sigmoid(self.conv4(a4))\n",
    "        return a5\n",
    "  \n",
    "    def reparameterize(self, mu, logvar):\n",
    "        std = torch.exp(0.5*logvar)\n",
    "        eps = torch.randn_like(std)\n",
    "        return eps.mul(std).add_(mu)\n",
    "  \n",
    "    def forward(self,x):\n",
    "        mu, logvar = self.encode(x)\n",
    "        z = self.reparameterize(mu, logvar)\n",
    "        return self.decode(z), mu, logvar\n",
    "    \n",
    "def loss_function(recon_x, x, mu, logvar):\n",
    "    BCE = F.binary_cross_entropy(recon_x.view(-1,784), x.view(-1, 784), reduction='sum')\n",
    "    KLD = -0.5 * torch.sum(1 + logvar - mu.pow(2) - logvar.exp())\n",
    "    return BCE + KLD\n",
    "\n",
    "model = VAE()\n",
    "optimizer = optim.Adam(model.parameters(), lr=1e-3, betas=(0.5, 0.999))"
   ]
  },
  {
   "cell_type": "markdown",
   "metadata": {},
   "source": [
    "## Treinamento:"
   ]
  },
  {
   "cell_type": "code",
   "execution_count": null,
   "metadata": {},
   "outputs": [
    {
     "name": "stdout",
     "output_type": "stream",
     "text": [
      "Epoch : 1 , Minibatch : 0 Loss = 70511.1094\n"
     ]
    }
   ],
   "source": [
    "num_epochs = 50\n",
    "print_per = 100\n",
    "model.train()\n",
    "for epoch in range(num_epochs):\n",
    "    train_loss = 0\n",
    "    print_loss = 0\n",
    "    loss_record = []\n",
    "    for i, (images, _) in enumerate(train_loader):\n",
    "        optimizer.zero_grad()\n",
    "        recon_batch, mu, logvar = model(images)\n",
    "        loss = loss_function(recon_batch, images, mu, logvar)\n",
    "        loss.backward()\n",
    "        train_loss += loss.item()\n",
    "        print_loss += loss.item()\n",
    "        optimizer.step()\n",
    "        if (i%print_per == 0):\n",
    "            print(\"Epoch : {} , Minibatch : {} Loss = {:.4f}\".format(epoch+1, i, print_loss))\n",
    "            loss_record.append(print_loss)\n",
    "            print_loss = 0\n",
    "    print(\"Epoch {} : Loss = ({:.4f}) \".format(epoch+1, train_loss))\n",
    "    torch.save(model.state_dict(), f'./epochs_vae_conv/vae_conv_epoch_{epoch + 1}.pth')"
   ]
  },
  {
   "cell_type": "markdown",
   "metadata": {},
   "source": [
    "## Resultados:"
   ]
  },
  {
   "cell_type": "code",
   "execution_count": null,
   "metadata": {},
   "outputs": [],
   "source": [
    "model.load_state_dict(torch.load(f'./epochs_vae_conv/vae_conv_epoch_50.pth'))\n",
    "plt.imshow(model(images)[0].data[random.randint(0, 127)].numpy().reshape(28, 28), cmap='gray')\n",
    "plt.show(block=True)"
   ]
  },
  {
   "cell_type": "code",
   "execution_count": null,
   "metadata": {},
   "outputs": [],
   "source": [
    "def generate_image(model, device):\n",
    "    model = model.to(device)\n",
    "    model.eval()\n",
    "    model.load_state_dict(torch.load(f'./epochs_vae_conv/vae_conv_epoch_50.pth'))\n",
    "    with torch.no_grad():\n",
    "        z = torch.randn(1, 20).to(device)\n",
    "        sample = model.decode(z).cpu()\n",
    "        sample = sample.view(28, 28)\n",
    "        return sample\n",
    "\n",
    "image = generate_image(model, device)\n",
    "plt.imshow(image.view(28, 28), cmap='gray')\n",
    "plt.axis('off')\n",
    "plt.show()"
   ]
  }
 ],
 "metadata": {
  "kernelspec": {
   "display_name": "Python 3",
   "language": "python",
   "name": "python3"
  },
  "language_info": {
   "codemirror_mode": {
    "name": "ipython",
    "version": 3
   },
   "file_extension": ".py",
   "mimetype": "text/x-python",
   "name": "python",
   "nbconvert_exporter": "python",
   "pygments_lexer": "ipython3",
   "version": "3.10.12"
  }
 },
 "nbformat": 4,
 "nbformat_minor": 2
}
